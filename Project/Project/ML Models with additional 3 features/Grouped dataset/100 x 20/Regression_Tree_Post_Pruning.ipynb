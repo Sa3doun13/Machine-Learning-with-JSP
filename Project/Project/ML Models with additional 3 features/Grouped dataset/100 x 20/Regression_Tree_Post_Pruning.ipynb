{
 "cells": [
  {
   "cell_type": "code",
   "execution_count": 1,
   "id": "4e6ff865-54e3-42e1-bf0f-5097320a87e3",
   "metadata": {},
   "outputs": [],
   "source": [
    "import pandas as pd"
   ]
  },
  {
   "cell_type": "raw",
   "id": "0c4dcb81-cfd4-486e-a3bf-865c4ae7226c",
   "metadata": {},
   "source": [
    "I deleted the header from the csv file because the program couldn't read it correctly and it caused an error when I tried to create the dummy variables.\n",
    "Then, I created the column names using the following code statement."
   ]
  },
  {
   "cell_type": "raw",
   "id": "87e5234b-825a-4f71-8c3f-13ef96a95ed5",
   "metadata": {},
   "source": [
    "We read here the csv file without header"
   ]
  },
  {
   "cell_type": "code",
   "execution_count": 2,
   "id": "346207fa-4ac1-4cd4-8e2f-15fd740a73b0",
   "metadata": {},
   "outputs": [],
   "source": [
    "# Read the CSV as a single column\n",
    "df = pd.read_csv(\"scheduling_results_4_classes_cleaned_100x20_21-02-2025.csv\", header=None)\n",
    "\n",
    "# Split into multiple columns using the semicolon as a delimiter\n",
    "df = df[0].str.split(';', expand=True)"
   ]
  },
  {
   "cell_type": "raw",
   "id": "ee155911-f789-4064-a99e-1f5726b74cb2",
   "metadata": {},
   "source": [
    "We add the column names to the data frame by the following code"
   ]
  },
  {
   "cell_type": "code",
   "execution_count": 3,
   "id": "ed380302-3e5f-41c3-b8e9-0bf6f81a6ecf",
   "metadata": {},
   "outputs": [
    {
     "name": "stdout",
     "output_type": "stream",
     "text": [
      "  instance jobs machines strategy tw compression overlapping  \\\n",
      "0     TA71  100       20    EST-M  2         Yes          No   \n",
      "1     TA72  100       20    EST-M  2         Yes          No   \n",
      "2     TA73  100       20    EST-M  2         Yes          No   \n",
      "3     TA74  100       20    EST-M  2         Yes          No   \n",
      "4     TA75  100       20    EST-M  2         Yes          No   \n",
      "\n",
      "  #op_tw_with_overlap #op_tw #op_only_overlap makespan gap_to_opt_percent  \\\n",
      "0                1000   1000                0    24466                348   \n",
      "1                1000   1000                0    27993                440   \n",
      "2                1000   1000                0    28505                412   \n",
      "3                1000   1000                0    24206                353   \n",
      "4                1000   1000                0    25499                373   \n",
      "\n",
      "  opt_class  \n",
      "0         4  \n",
      "1         4  \n",
      "2         4  \n",
      "3         4  \n",
      "4         4  \n"
     ]
    }
   ],
   "source": [
    "# Assign proper column names\n",
    "df.columns = ['instance', 'jobs', 'machines', 'strategy', 'tw', 'compression', \n",
    "              'overlapping', '#op_tw_with_overlap', '#op_tw', '#op_only_overlap', 'makespan', 'gap_to_opt_percent', 'opt_class']\n",
    "\n",
    "# Verify the DataFrame\n",
    "print(df.head())"
   ]
  },
  {
   "cell_type": "raw",
   "id": "dda27807-2420-410b-a1a0-95f245732067",
   "metadata": {},
   "source": [
    "We include some machine learning libraries"
   ]
  },
  {
   "cell_type": "code",
   "execution_count": 4,
   "id": "a66c2482-885e-48cd-9966-7c975eeb20cf",
   "metadata": {},
   "outputs": [],
   "source": [
    "from sklearn.model_selection import train_test_split\n",
    "import numpy as np\n",
    "import seaborn as sns\n",
    "import matplotlib.pyplot as plt\n",
    "from sklearn.preprocessing import LabelEncoder\n",
    "from sklearn.tree import DecisionTreeRegressor\n",
    "from sklearn.metrics import mean_squared_error, r2_score, mean_absolute_error\n",
    "from sklearn.model_selection import cross_val_score\n",
    "from sklearn.model_selection import GridSearchCV, RandomizedSearchCV"
   ]
  },
  {
   "cell_type": "raw",
   "id": "6612a3c7-0bc7-489a-aa41-7894be9037d8",
   "metadata": {},
   "source": [
    "We select the independent variables"
   ]
  },
  {
   "cell_type": "code",
   "execution_count": 5,
   "id": "26264d91-5841-4dc7-9e31-7f8e5b8c9c0a",
   "metadata": {},
   "outputs": [],
   "source": [
    "# Convert numeric columns to appropriate types\n",
    "numeric_cols = ['jobs', 'machines', 'tw', '#op_tw_with_overlap', '#op_tw', '#op_only_overlap', 'makespan', 'gap_to_opt_percent']\n",
    "df[numeric_cols] = df[numeric_cols].apply(pd.to_numeric, errors='coerce')\n",
    "\n",
    "# Encode categorical variables (e.g., 'strategy', 'compression', 'overlapping')\n",
    "label_encoder = LabelEncoder()\n",
    "categorical_cols = ['strategy', 'compression', 'overlapping', 'opt_class']\n",
    "for col in categorical_cols:\n",
    "    df[col] = label_encoder.fit_transform(df[col])\n",
    "\n",
    "\n",
    "# Define the features (X) and the target variable (y)\n",
    "x = df[['jobs', 'machines', 'strategy', 'tw', 'compression', 'overlapping', '#op_tw_with_overlap', '#op_tw', '#op_only_overlap']]\n",
    "y = df['gap_to_opt_percent']  # Target variable for regression"
   ]
  },
  {
   "cell_type": "code",
   "execution_count": 6,
   "id": "b219c627-1e06-438e-bc73-7541904f1442",
   "metadata": {},
   "outputs": [],
   "source": [
    "# Split the data into training and testing sets\n",
    "x_train, x_test, y_train, y_test = train_test_split(x, y, test_size=0.2, random_state=42)"
   ]
  },
  {
   "cell_type": "code",
   "execution_count": 9,
   "id": "6083066c-75ec-402c-903d-5c9b7cf40368",
   "metadata": {},
   "outputs": [
    {
     "name": "stdout",
     "output_type": "stream",
     "text": [
      "Mean Squared Error: 151.79181587795782\n",
      "R2 Score: 0.9807703164178415\n",
      "Mean Absolute Percentage Error (MAPE): 28.26671022743851 %\n"
     ]
    },
    {
     "name": "stderr",
     "output_type": "stream",
     "text": [
      "D:\\AAU Data\\Seafile AAU\\My Library\\Research papers\\Work with Patrick Rodler\\Project\\Project\\pandas_venv\\Lib\\site-packages\\sklearn\\model_selection\\_validation.py:528: FitFailedWarning: \n",
      "10 fits failed out of a total of 1190.\n",
      "The score on these train-test partitions for these parameters will be set to nan.\n",
      "If these failures are not expected, you can try to debug them by setting error_score='raise'.\n",
      "\n",
      "Below are more details about the failures:\n",
      "--------------------------------------------------------------------------------\n",
      "10 fits failed with the following error:\n",
      "Traceback (most recent call last):\n",
      "  File \"D:\\AAU Data\\Seafile AAU\\My Library\\Research papers\\Work with Patrick Rodler\\Project\\Project\\pandas_venv\\Lib\\site-packages\\sklearn\\model_selection\\_validation.py\", line 866, in _fit_and_score\n",
      "    estimator.fit(X_train, y_train, **fit_params)\n",
      "    ~~~~~~~~~~~~~^^^^^^^^^^^^^^^^^^^^^^^^^^^^^^^^\n",
      "  File \"D:\\AAU Data\\Seafile AAU\\My Library\\Research papers\\Work with Patrick Rodler\\Project\\Project\\pandas_venv\\Lib\\site-packages\\sklearn\\base.py\", line 1382, in wrapper\n",
      "    estimator._validate_params()\n",
      "    ~~~~~~~~~~~~~~~~~~~~~~~~~~^^\n",
      "  File \"D:\\AAU Data\\Seafile AAU\\My Library\\Research papers\\Work with Patrick Rodler\\Project\\Project\\pandas_venv\\Lib\\site-packages\\sklearn\\base.py\", line 436, in _validate_params\n",
      "    validate_parameter_constraints(\n",
      "    ~~~~~~~~~~~~~~~~~~~~~~~~~~~~~~^\n",
      "        self._parameter_constraints,\n",
      "        ^^^^^^^^^^^^^^^^^^^^^^^^^^^^\n",
      "        self.get_params(deep=False),\n",
      "        ^^^^^^^^^^^^^^^^^^^^^^^^^^^^\n",
      "        caller_name=self.__class__.__name__,\n",
      "        ^^^^^^^^^^^^^^^^^^^^^^^^^^^^^^^^^^^^\n",
      "    )\n",
      "    ^\n",
      "  File \"D:\\AAU Data\\Seafile AAU\\My Library\\Research papers\\Work with Patrick Rodler\\Project\\Project\\pandas_venv\\Lib\\site-packages\\sklearn\\utils\\_param_validation.py\", line 98, in validate_parameter_constraints\n",
      "    raise InvalidParameterError(\n",
      "    ...<2 lines>...\n",
      "    )\n",
      "sklearn.utils._param_validation.InvalidParameterError: The 'ccp_alpha' parameter of DecisionTreeRegressor must be a float in the range [0.0, inf). Got -3.469446951953614e-17 instead.\n",
      "\n",
      "  warnings.warn(some_fits_failed_message, FitFailedWarning)\n",
      "D:\\AAU Data\\Seafile AAU\\My Library\\Research papers\\Work with Patrick Rodler\\Project\\Project\\pandas_venv\\Lib\\site-packages\\sklearn\\model_selection\\_search.py:1107: UserWarning: One or more of the test scores are non-finite: [0.98791325        nan 0.98791325 0.98791325 0.98791307 0.98791305\n",
      " 0.98791305 0.98791305 0.98791291 0.98791291 0.98791302 0.987913\n",
      " 0.98791329 0.9879131  0.98791312 0.98791312 0.98791269 0.98791261\n",
      " 0.9879128  0.9879128  0.9879128  0.98791281 0.98791232 0.98791254\n",
      " 0.98791284 0.98791374 0.98791564 0.98791564 0.9879152  0.98791356\n",
      " 0.98791422 0.98791489 0.98791488 0.98791467 0.98791467 0.9879179\n",
      " 0.9879179  0.98791623 0.98791984 0.98791984 0.98792522 0.98792518\n",
      " 0.98792536 0.98792323 0.98792258 0.98792317 0.98792565 0.98793179\n",
      " 0.98793438 0.98793438 0.98793471 0.98793652 0.98794136 0.9879436\n",
      " 0.98794392 0.98794392 0.98794124 0.98794541 0.98794252 0.98793852\n",
      " 0.98793852 0.98793844 0.98795968 0.98795951 0.98795837 0.98796626\n",
      " 0.98795107 0.98795858 0.98796189 0.98795996 0.98796381 0.98796307\n",
      " 0.98796476 0.98795761 0.98796484 0.98797942 0.98799523 0.98800987\n",
      " 0.9880154  0.9880166  0.9880166  0.98800793 0.98797962 0.98796765\n",
      " 0.98796765 0.98796775 0.98795063 0.98793768 0.98789051 0.98789051\n",
      " 0.98784736 0.98785027 0.98787045 0.98793548 0.98795574 0.98796805\n",
      " 0.98795948 0.98796529 0.98805016 0.98805144 0.98799386 0.98805379\n",
      " 0.98789327 0.98771837 0.98771837 0.98771837 0.98707933 0.98639828\n",
      " 0.98621903 0.98604746 0.98574913 0.98524727 0.98435361 0.98307151\n",
      " 0.98137624 0.97727131 0.97568557 0.96789252 0.38352199]\n",
      "  warnings.warn(\n"
     ]
    }
   ],
   "source": [
    "# Train the Regression Tree\n",
    "reg_tree = DecisionTreeRegressor(criterion='squared_error', max_depth=None, random_state=42)\n",
    "\n",
    "# extract the set of cost complexity parameter alphas\n",
    "ccp_alphas = reg_tree.cost_complexity_pruning_path(x_train,y_train)['ccp_alphas']\n",
    "\n",
    "# view the complete list of effective alphas\n",
    "ccp_alphas.tolist()\n",
    "\n",
    "# setup parameter space\n",
    "parameters = {'ccp_alpha':ccp_alphas.tolist()}\n",
    "\n",
    "# create an instance of the grid search object\n",
    "gsearch = GridSearchCV(reg_tree, parameters, cv=10)\n",
    "\n",
    "# step 3: conduct grid search over the parameter space\n",
    "gsearch.fit(x_train,y_train)\n",
    "\n",
    "# show best parameter configuration found for classifier\n",
    "gsearch.best_params_\n",
    "\n",
    "# extract best classifier\n",
    "clf = gsearch.best_estimator_\n",
    "\n",
    "# produce classification report\n",
    "y_pred = clf.predict(x_test)\n",
    "\n",
    "# Evaluate the model\n",
    "mse = mean_squared_error(y_test, y_pred)\n",
    "r2 = r2_score(y_test, y_pred)\n",
    "\n",
    "# Calculate Mean Absolute Percentage Error (MAPE)\n",
    "mape = (abs((y_test - y_pred) / y_test).mean()) * 100\n",
    "\n",
    "print(\"Mean Squared Error:\", mse)\n",
    "print(\"R2 Score:\", r2)\n",
    "print(\"Mean Absolute Percentage Error (MAPE):\", mape, \"%\")"
   ]
  },
  {
   "cell_type": "code",
   "execution_count": 8,
   "id": "06502a9f-c2e3-4b37-b12d-e8678bc9dfad",
   "metadata": {},
   "outputs": [
    {
     "name": "stderr",
     "output_type": "stream",
     "text": [
      "C:\\Users\\Mohammed El-Kholany\\AppData\\Local\\Temp\\ipykernel_19328\\3127363140.py:11: FutureWarning: \n",
      "\n",
      "Passing `palette` without assigning `hue` is deprecated and will be removed in v0.14.0. Assign the `y` variable to `hue` and set `legend=False` for the same effect.\n",
      "\n",
      "  sns.barplot(x=importance_df['Importance'], y=importance_df['Feature'], palette='viridis')\n"
     ]
    },
    {
     "data": {
      "image/png": "[encoded data removed]",
      "text/plain": [
       "<Figure size 500x300 with 1 Axes>"
      ]
     },
     "metadata": {},
     "output_type": "display_data"
    }
   ],
   "source": [
    "# Feature Importance Analysis\n",
    "feature_importances = clf.feature_importances_\n",
    "features = x.columns\n",
    "\n",
    "# Create a DataFrame for visualization\n",
    "importance_df = pd.DataFrame({'Feature': features, 'Importance': feature_importances})\n",
    "importance_df = importance_df.sort_values(by='Importance', ascending=False)\n",
    "\n",
    "# Plot Feature Importances\n",
    "plt.figure(figsize=(5, 3))\n",
    "sns.barplot(x=importance_df['Importance'], y=importance_df['Feature'], palette='viridis')\n",
    "plt.xlabel(\"Feature Importance Score\")\n",
    "plt.ylabel(\"Features\")\n",
    "plt.title(\"Feature Importance from Regression Decision Tree Post Pruning (100 x 20)\")\n",
    "plt.show()"
   ]
  },
  {
   "cell_type": "code",
   "execution_count": null,
   "id": "4c69b1ac-50d4-44e6-8d56-8ead66345924",
   "metadata": {},
   "outputs": [],
   "source": []
  },
  {
   "cell_type": "code",
   "execution_count": null,
   "id": "a7709dc9-c415-4a6e-9e3c-19ae887cb21c",
   "metadata": {},
   "outputs": [],
   "source": []
  }
 ],
 "metadata": {
  "kernelspec": {
   "display_name": "pandas_kernel",
   "language": "python",
   "name": "pandas_kernel"
  },
  "language_info": {
   "codemirror_mode": {
    "name": "ipython",
    "version": 3
   },
   "file_extension": ".py",
   "mimetype": "text/x-python",
   "name": "python",
   "nbconvert_exporter": "python",
   "pygments_lexer": "ipython3",
   "version": "3.13.1"
  }
 },
 "nbformat": 4,
 "nbformat_minor": 5
}

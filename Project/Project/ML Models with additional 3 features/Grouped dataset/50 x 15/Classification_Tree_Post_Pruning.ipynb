{
 "cells": [
  {
   "cell_type": "code",
   "execution_count": 1,
   "id": "4e6ff865-54e3-42e1-bf0f-5097320a87e3",
   "metadata": {},
   "outputs": [],
   "source": [
    "import pandas as pd"
   ]
  },
  {
   "cell_type": "raw",
   "id": "0c4dcb81-cfd4-486e-a3bf-865c4ae7226c",
   "metadata": {},
   "source": [
    "I deleted the header from the csv file because the program couldn't read it correctly and it caused an error when I tried to create the dummy variables.\n",
    "Then, I created the column names using the following code statement."
   ]
  },
  {
   "cell_type": "raw",
   "id": "87e5234b-825a-4f71-8c3f-13ef96a95ed5",
   "metadata": {},
   "source": [
    "We read here the csv file without header"
   ]
  },
  {
   "cell_type": "code",
   "execution_count": 2,
   "id": "346207fa-4ac1-4cd4-8e2f-15fd740a73b0",
   "metadata": {},
   "outputs": [],
   "source": [
    "# Read the CSV as a single column\n",
    "df = pd.read_csv(\"scheduling_results_4_classes_cleaned_50x15_21-02-2025.csv\", header=None)\n",
    "\n",
    "# Split into multiple columns using the semicolon as a delimiter\n",
    "df = df[0].str.split(';', expand=True)"
   ]
  },
  {
   "cell_type": "raw",
   "id": "ee155911-f789-4064-a99e-1f5726b74cb2",
   "metadata": {},
   "source": [
    "We add the column names to the data frame by the following code"
   ]
  },
  {
   "cell_type": "code",
   "execution_count": 3,
   "id": "ed380302-3e5f-41c3-b8e9-0bf6f81a6ecf",
   "metadata": {},
   "outputs": [
    {
     "name": "stdout",
     "output_type": "stream",
     "text": [
      "  instance jobs machines strategy tw compression overlapping  \\\n",
      "0     TA51   50       15    EST-M  2         Yes          No   \n",
      "1     TA52   50       15    EST-M  2         Yes          No   \n",
      "2     TA53   50       15    EST-M  2         Yes          No   \n",
      "3     TA54   50       15    EST-M  2         Yes          No   \n",
      "4     TA55   50       15    EST-M  2         Yes          No   \n",
      "\n",
      "  #op_tw_with_overlap #op_tw #op_only_overlap makespan gap_to_opt_percent  \\\n",
      "0                 375    375                0     3070                 11   \n",
      "1                 375    375                0     3128                 13   \n",
      "2                 375    375                0     2956                  9   \n",
      "3                 375    375                0     3039                  7   \n",
      "4                 375    375                0     2998                 12   \n",
      "\n",
      "  opt_class  \n",
      "0         1  \n",
      "1         1  \n",
      "2         1  \n",
      "3         1  \n",
      "4         1  \n"
     ]
    }
   ],
   "source": [
    "# Assign proper column names\n",
    "df.columns = ['instance', 'jobs', 'machines', 'strategy', 'tw', 'compression', \n",
    "              'overlapping', '#op_tw_with_overlap', '#op_tw', '#op_only_overlap', 'makespan', 'gap_to_opt_percent', 'opt_class']\n",
    "\n",
    "# Verify the DataFrame\n",
    "print(df.head())"
   ]
  },
  {
   "cell_type": "raw",
   "id": "dda27807-2420-410b-a1a0-95f245732067",
   "metadata": {},
   "source": [
    "We include some machine learning libraries"
   ]
  },
  {
   "cell_type": "code",
   "execution_count": 4,
   "id": "a66c2482-885e-48cd-9966-7c975eeb20cf",
   "metadata": {},
   "outputs": [],
   "source": [
    "from sklearn.model_selection import train_test_split\n",
    "import numpy as np\n",
    "import seaborn as sns\n",
    "import matplotlib.pyplot as plt\n",
    "from sklearn.preprocessing import LabelEncoder\n",
    "from sklearn.tree import DecisionTreeClassifier\n",
    "from sklearn.metrics import classification_report, accuracy_score\n",
    "from sklearn.model_selection import cross_val_score\n",
    "from sklearn.model_selection import GridSearchCV, RandomizedSearchCV"
   ]
  },
  {
   "cell_type": "raw",
   "id": "6612a3c7-0bc7-489a-aa41-7894be9037d8",
   "metadata": {},
   "source": [
    "We select the independent variables"
   ]
  },
  {
   "cell_type": "code",
   "execution_count": 5,
   "id": "26264d91-5841-4dc7-9e31-7f8e5b8c9c0a",
   "metadata": {},
   "outputs": [],
   "source": [
    "# Convert numeric columns to appropriate types\n",
    "numeric_cols = ['jobs', 'machines', 'tw', '#op_tw_with_overlap', '#op_tw', '#op_only_overlap', 'makespan', 'gap_to_opt_percent']\n",
    "df[numeric_cols] = df[numeric_cols].apply(pd.to_numeric, errors='coerce')\n",
    "\n",
    "# Encode categorical variables (e.g., 'strategy', 'compression', 'overlapping')\n",
    "label_encoder = LabelEncoder()\n",
    "categorical_cols = ['strategy', 'compression', 'overlapping', 'opt_class']\n",
    "for col in categorical_cols:\n",
    "    df[col] = label_encoder.fit_transform(df[col])\n",
    "\n",
    "# Define the features (X) and the target variable (y)\n",
    "x = df[['jobs', 'machines', 'strategy', 'tw', 'compression', 'overlapping', '#op_tw_with_overlap', '#op_tw', '#op_only_overlap']]\n",
    "y = df['opt_class']  # Target variable for classification"
   ]
  },
  {
   "cell_type": "code",
   "execution_count": 6,
   "id": "b219c627-1e06-438e-bc73-7541904f1442",
   "metadata": {},
   "outputs": [],
   "source": [
    "# Split the data into training and testing sets\n",
    "x_train, x_test, y_train, y_test = train_test_split(x, y, test_size=0.2, random_state=42)"
   ]
  },
  {
   "cell_type": "code",
   "execution_count": 10,
   "id": "6083066c-75ec-402c-903d-5c9b7cf40368",
   "metadata": {},
   "outputs": [
    {
     "name": "stdout",
     "output_type": "stream",
     "text": [
      "\n",
      "Classification Report:\n",
      "               precision    recall  f1-score   support\n",
      "\n",
      "           0       0.69      0.75      0.72       148\n",
      "           1       0.46      0.66      0.54       122\n",
      "           2       0.00      0.00      0.00        55\n",
      "           3       0.00      0.00      0.00        11\n",
      "\n",
      "    accuracy                           0.57       336\n",
      "   macro avg       0.29      0.35      0.32       336\n",
      "weighted avg       0.47      0.57      0.51       336\n",
      "\n"
     ]
    },
    {
     "name": "stderr",
     "output_type": "stream",
     "text": [
      "D:\\AAU Data\\Seafile AAU\\My Library\\Research papers\\Work with Patrick Rodler\\Project\\Project\\pandas_venv\\Lib\\site-packages\\sklearn\\metrics\\_classification.py:1565: UndefinedMetricWarning: Precision is ill-defined and being set to 0.0 in labels with no predicted samples. Use `zero_division` parameter to control this behavior.\n",
      "  _warn_prf(average, modifier, f\"{metric.capitalize()} is\", len(result))\n",
      "D:\\AAU Data\\Seafile AAU\\My Library\\Research papers\\Work with Patrick Rodler\\Project\\Project\\pandas_venv\\Lib\\site-packages\\sklearn\\metrics\\_classification.py:1565: UndefinedMetricWarning: Precision is ill-defined and being set to 0.0 in labels with no predicted samples. Use `zero_division` parameter to control this behavior.\n",
      "  _warn_prf(average, modifier, f\"{metric.capitalize()} is\", len(result))\n",
      "D:\\AAU Data\\Seafile AAU\\My Library\\Research papers\\Work with Patrick Rodler\\Project\\Project\\pandas_venv\\Lib\\site-packages\\sklearn\\metrics\\_classification.py:1565: UndefinedMetricWarning: Precision is ill-defined and being set to 0.0 in labels with no predicted samples. Use `zero_division` parameter to control this behavior.\n",
      "  _warn_prf(average, modifier, f\"{metric.capitalize()} is\", len(result))\n"
     ]
    }
   ],
   "source": [
    "# Train the Classification Decision Tree\n",
    "#decision_tree = DecisionTreeClassifier(criterion='gini', max_depth=None, random_state=42)\n",
    "decision_tree = DecisionTreeClassifier(criterion='gini', max_depth=None, random_state=42)\n",
    "\n",
    "# extract the set of cost complexity parameter alphas\n",
    "ccp_alphas = decision_tree.cost_complexity_pruning_path(x_train,y_train)['ccp_alphas']\n",
    "\n",
    "# view the complete list of effective alphas\n",
    "ccp_alphas.tolist()\n",
    "\n",
    "# setup parameter space\n",
    "parameters = {'ccp_alpha':ccp_alphas.tolist()}\n",
    "\n",
    "# create an instance of the grid search object\n",
    "gsearch = GridSearchCV(DecisionTreeClassifier(criterion='gini', max_depth=None, random_state=42), parameters, cv=10)\n",
    "\n",
    "# step 3: conduct grid search over the parameter space\n",
    "gsearch.fit(x_train,y_train)\n",
    "\n",
    "# show best parameter configuration found for classifier\n",
    "gsearch.best_params_\n",
    "\n",
    "# extract best classifier\n",
    "clf = gsearch.best_estimator_\n",
    "\n",
    "# produce classification report\n",
    "y_pred = clf.predict(x_test)\n",
    "\n",
    "\n",
    "# Evaluate the model\n",
    "print(\"\\nClassification Report:\\n\", classification_report(y_test, y_pred))"
   ]
  },
  {
   "cell_type": "code",
   "execution_count": 11,
   "id": "b2814148-7250-44bf-a8c3-d8df6af038dc",
   "metadata": {},
   "outputs": [
    {
     "name": "stderr",
     "output_type": "stream",
     "text": [
      "C:\\Users\\Mohammed El-Kholany\\AppData\\Local\\Temp\\ipykernel_10404\\3738993400.py:10: FutureWarning: \n",
      "\n",
      "Passing `palette` without assigning `hue` is deprecated and will be removed in v0.14.0. Assign the `y` variable to `hue` and set `legend=False` for the same effect.\n",
      "\n",
      "  sns.barplot(x=importance_df['Importance'], y=importance_df['Feature'], palette='viridis')\n"
     ]
    },
    {
     "data": {
      "image/png": "[encoded data removed]",
      "text/plain": [
       "<Figure size 500x300 with 1 Axes>"
      ]
     },
     "metadata": {},
     "output_type": "display_data"
    }
   ],
   "source": [
    "# Feature Importance Analysis\n",
    "feature_importances = clf.feature_importances_\n",
    "features = x.columns\n",
    "# Create a DataFrame for visualization\n",
    "importance_df = pd.DataFrame({'Feature': features, 'Importance': feature_importances})\n",
    "importance_df = importance_df.sort_values(by='Importance', ascending=False)\n",
    "\n",
    "# Plot Feature Importances\n",
    "plt.figure(figsize=(5, 3))\n",
    "sns.barplot(x=importance_df['Importance'], y=importance_df['Feature'], palette='viridis')\n",
    "plt.xlabel(\"Feature Importance Score\")\n",
    "plt.ylabel(\"Features\")\n",
    "plt.title(\"Feature Importance from Decision Tree Classification Post Pruning (50 x 15)\")\n",
    "plt.show()"
   ]
  },
  {
   "cell_type": "code",
   "execution_count": null,
   "id": "c853e0de-1d4c-444b-8495-4d87cd8913e5",
   "metadata": {},
   "outputs": [],
   "source": []
  }
 ],
 "metadata": {
  "kernelspec": {
   "display_name": "pandas_kernel",
   "language": "python",
   "name": "pandas_kernel"
  },
  "language_info": {
   "codemirror_mode": {
    "name": "ipython",
    "version": 3
   },
   "file_extension": ".py",
   "mimetype": "text/x-python",
   "name": "python",
   "nbconvert_exporter": "python",
   "pygments_lexer": "ipython3",
   "version": "3.13.1"
  }
 },
 "nbformat": 4,
 "nbformat_minor": 5
}
